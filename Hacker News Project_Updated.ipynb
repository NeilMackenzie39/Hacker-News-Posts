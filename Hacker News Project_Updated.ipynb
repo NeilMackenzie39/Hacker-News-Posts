{
 "cells": [
  {
   "cell_type": "markdown",
   "metadata": {},
   "source": [
    "# Exploring Hacker News Posts\n",
    "Written by Neil Mackenzie\n",
    "\n",
    "---\n",
    "This guided project formed part of the \"Python for Data Science: Intermediate\" [course](https://www.dataquest.io/course/python-for-data-science-intermediate/) of the Dataquest.io Data Scientist in Python [path.](https://www.dataquest.io/path/data-scientist/)\n",
    "\n",
    "The project is useful to become more familiar with basic data cleaning and data analysis as well as the use of datetime objects in Python\n",
    "\n",
    "The aim of this project is to assess the popularity of different types of posts on the Hacker News site. Hacker News is a site which allows users to post stories which can be voted and commented upon.\n",
    "\n",
    "The dataset used in this project is a random sample of approximately 20 000 rows of submissions that got at least one comment. In this project, we are specifically interested in comparing the popularity of \"Ask HN\" posts and \"Show HN\" posts. A description of each of these is given below:\n",
    "- Ask HN: A user-submitted post to ask the Hacker News community a question\n",
    "- Show HN: A user-submitted post to show the community a project, product, interesting ideas etc.\n",
    "\n",
    "The criteria for defining 'popularity' in this project are the number of comments and the effect that the posting time has on the number of comments a post receives. We would therefore like to answer the following questions:\n",
    "1. Do Ask HN or Show HN receive more comments on average?\n",
    "2. Do posts created at a certain time receive more comments on average?"
   ]
  },
  {
   "cell_type": "markdown",
   "metadata": {},
   "source": [
    "# Introducing the dataset\n",
    "\n",
    "A description of each of the columns is given below:\n",
    "\n",
    "- id: The unique identifier from Hacker News for the post\n",
    "- title: The title of the post\n",
    "- url: The URL that the posts links to, if it the post has a URL\n",
    "- num_points: The number of points the post acquired, calculated as the total number of upvotes minus the total number of downvotes\n",
    "- num_comments: The number of comments that were made on the post\n",
    "- author: The username of the person who submitted the post\n",
    "- created_at: The date and time at which the post was submitted\n"
   ]
  },
  {
   "cell_type": "code",
   "execution_count": 1,
   "metadata": {},
   "outputs": [
    {
     "name": "stdout",
     "output_type": "stream",
     "text": [
      "[['id', 'title', 'url', 'num_points', 'num_comments', 'author', 'created_at'], ['12579008', 'You have two days to comment if you want stem cells to be classified as your own', 'http://www.regulations.gov/document?D=FDA-2015-D-3719-0018', '1', '0', 'altstar', '9/26/2016 3:26'], ['12579005', 'SQLAR  the SQLite Archiver', 'https://www.sqlite.org/sqlar/doc/trunk/README.md', '1', '0', 'blacksqr', '9/26/2016 3:24'], ['12578997', 'What if we just printed a flatscreen television on the side of our boxes?', 'https://medium.com/vanmoof/our-secrets-out-f21c1f03fdc8#.ietxmez43', '1', '0', 'pavel_lishin', '9/26/2016 3:19'], ['12578989', 'algorithmic music', 'http://cacm.acm.org/magazines/2011/7/109891-algorithmic-composition/fulltext', '1', '0', 'poindontcare', '9/26/2016 3:16']]\n"
     ]
    }
   ],
   "source": [
    "from csv import reader\n",
    "\n",
    "#Open and read data to variable named hn:\n",
    "hn_csv = open('HN_posts_year_to_Sep_26_2016.csv',encoding = 'UTF-8')\n",
    "hn_data = reader(hn_csv)\n",
    "hn = list(hn_data)\n",
    "print(hn[0:5])"
   ]
  },
  {
   "cell_type": "markdown",
   "metadata": {},
   "source": [
    "Separate header row from the rest of the data"
   ]
  },
  {
   "cell_type": "code",
   "execution_count": 2,
   "metadata": {},
   "outputs": [
    {
     "name": "stdout",
     "output_type": "stream",
     "text": [
      "Headers:\n",
      " ['id', 'title', 'url', 'num_points', 'num_comments', 'author', 'created_at']\n",
      "\n",
      "First five rows:\n",
      "Row 1\n",
      "['12579008', 'You have two days to comment if you want stem cells to be classified as your own', 'http://www.regulations.gov/document?D=FDA-2015-D-3719-0018', '1', '0', 'altstar', '9/26/2016 3:26']\n",
      "Row 2\n",
      "['12579005', 'SQLAR  the SQLite Archiver', 'https://www.sqlite.org/sqlar/doc/trunk/README.md', '1', '0', 'blacksqr', '9/26/2016 3:24']\n",
      "Row 3\n",
      "['12578997', 'What if we just printed a flatscreen television on the side of our boxes?', 'https://medium.com/vanmoof/our-secrets-out-f21c1f03fdc8#.ietxmez43', '1', '0', 'pavel_lishin', '9/26/2016 3:19']\n",
      "Row 4\n",
      "['12578989', 'algorithmic music', 'http://cacm.acm.org/magazines/2011/7/109891-algorithmic-composition/fulltext', '1', '0', 'poindontcare', '9/26/2016 3:16']\n",
      "Row 5\n",
      "['12578979', 'How the Data Vault Enables the Next-Gen Data Warehouse and Data Lake', 'https://www.talend.com/blog/2016/05/12/talend-and-Â\\x93the-data-vaultÂ\\x94', '1', '0', 'markgainor1', '9/26/2016 3:14']\n"
     ]
    }
   ],
   "source": [
    "headers = hn[0]\n",
    "del hn[0]\n",
    "\n",
    "print(\"Headers:\\n\",headers)\n",
    "\n",
    "print(\"\\nFirst five rows:\")\n",
    "for i in range(5):\n",
    "    print(\"Row\",i+1)\n",
    "    print(hn[i])"
   ]
  },
  {
   "cell_type": "markdown",
   "metadata": {},
   "source": [
    "Separate posts beginning with Ask HN and Show HN into two different lists"
   ]
  },
  {
   "cell_type": "code",
   "execution_count": 3,
   "metadata": {},
   "outputs": [
    {
     "name": "stdout",
     "output_type": "stream",
     "text": [
      "Ask Posts: 9139 \n",
      "Show Posts: 10158 \n",
      "Other Posts: 273822\n"
     ]
    }
   ],
   "source": [
    "ask_posts, show_posts, other_posts = [], [], []\n",
    "\n",
    "for row in hn:\n",
    "    title = row[1].lower()\n",
    "    if title.startswith('ask hn'):\n",
    "        ask_posts.append(row)\n",
    "    elif title.startswith('show hn'):\n",
    "        show_posts.append(row)\n",
    "    else:\n",
    "        other_posts.append(row)\n",
    "        \n",
    "print ('Ask Posts:',len(ask_posts),'\\nShow Posts:',len(show_posts),'\\nOther Posts:',len(other_posts))"
   ]
  },
  {
   "cell_type": "markdown",
   "metadata": {},
   "source": [
    "Check if ask posts or show posts receive more comments"
   ]
  },
  {
   "cell_type": "code",
   "execution_count": 4,
   "metadata": {},
   "outputs": [
    {
     "name": "stdout",
     "output_type": "stream",
     "text": [
      "Average number of comments for ask posts: 10.39\n",
      "Average number of comments for show posts: 4.89\n"
     ]
    }
   ],
   "source": [
    "def find_num_comments(posts):\n",
    "    current_list = []\n",
    "    for row in posts:\n",
    "        num_comments = int(row[4])\n",
    "        current_list.append(num_comments)\n",
    "    return current_list\n",
    "\n",
    "def calc_avg(num_comments):\n",
    "    avg = sum(num_comments)/len(num_comments)\n",
    "    return avg\n",
    "\n",
    "total_ask_comments = find_num_comments(ask_posts)\n",
    "total_show_comments = find_num_comments(show_posts)\n",
    "avg_ask_comments = round(calc_avg(total_ask_comments),2)\n",
    "avg_show_comments = round(calc_avg(total_show_comments),2)\n",
    "\n",
    "print ('Average number of comments for ask posts:', avg_ask_comments)\n",
    "print ('Average number of comments for show posts:', avg_show_comments)"
   ]
  },
  {
   "cell_type": "markdown",
   "metadata": {},
   "source": [
    "Ask posts receive more comments (10.39 per post) than show posts (4.89 per post)\n",
    "\n",
    "---"
   ]
  },
  {
   "cell_type": "markdown",
   "metadata": {},
   "source": [
    "# Analysing ask_posts using Pandas and Matplotlib\n",
    "\n",
    "Moving forward, only the ask_posts list will be analysed since it received more comments per post. The next step is to analyse the number of posts created per hour of the day along with the total number of comments made in each hour.\n",
    "\n",
    "Note that I came back to this project after learning about Pandas and Matplotlib in later courses. The code below implements these lessons to generate simpler, more efficient code that also presents far neater output than standard lists. The original code for this project (before the Pandas and Matplotlib implementation) can be found \n",
    "# here"
   ]
  },
  {
   "cell_type": "code",
   "execution_count": 5,
   "metadata": {},
   "outputs": [],
   "source": [
    "import datetime as dt\n",
    "import pandas as pd\n",
    "import matplotlib.pyplot as plt\n",
    "%matplotlib inline\n",
    "\n",
    "\n",
    "#Create list containing created_at (index 6) and num_comments (index 4) for each post\n",
    "result_list = []\n",
    "for row in ask_posts:\n",
    "    result_list.append([row[6],int(row[4])])\n",
    "\n",
    "#Count no. of posts and no. of comments by hour of day. Results stored in dictionarys \n",
    "counts_by_hour = {}\n",
    "comments_by_hour = {}\n",
    "\n",
    "for row in result_list:\n",
    "    #created_at info is stored at index 0 of each row. num_comments is at index 1\n",
    "    date_object = dt.datetime.strptime(row[0],\"%m/%d/%Y %H:%M\")\n",
    "    hour = date_object.hour\n",
    "    num_comments = row[1]\n",
    "    \n",
    "    if hour in counts_by_hour:\n",
    "        counts_by_hour[hour] += 1\n",
    "        comments_by_hour[hour] += row[1]\n",
    "    else:\n",
    "        counts_by_hour[hour] = 1\n",
    "        comments_by_hour[hour] = row[1]"
   ]
  },
  {
   "cell_type": "code",
   "execution_count": 6,
   "metadata": {},
   "outputs": [],
   "source": [
    "#Create a dataframe from the two dictionaries generated in the block above. \n",
    "\n",
    "#Series objects can be made from dictionaries much quicker and easier than dataframes \n",
    "#(according to what I currently know), but I chose to use DataFrames so that\n",
    "#columns can be labeled\n",
    "def get_df(dict_values, col):\n",
    "    keys = []\n",
    "    values = []\n",
    "    items = dict_values.items()\n",
    "    for item in items:\n",
    "        keys.append(item[0]), values.append(item[1])\n",
    "        \n",
    "    data = {'Hour': keys,\n",
    "           col: values}\n",
    "    df = pd.DataFrame(data).sort_values('Hour')\n",
    "    return df"
   ]
  },
  {
   "cell_type": "code",
   "execution_count": 7,
   "metadata": {},
   "outputs": [
    {
     "data": {
      "text/html": [
       "<style  type=\"text/css\" >\n",
       "</style><table id=\"T_6b01da1c_b7c2_11e9_9834_bcee7b4ae845\" ><thead>    <tr>        <th class=\"col_heading level0 col0\" >Hour</th>        <th class=\"col_heading level0 col1\" >Counts</th>    </tr></thead><tbody>\n",
       "                <tr>\n",
       "                                <td id=\"T_6b01da1c_b7c2_11e9_9834_bcee7b4ae845row0_col0\" class=\"data row0 col0\" >0</td>\n",
       "                        <td id=\"T_6b01da1c_b7c2_11e9_9834_bcee7b4ae845row0_col1\" class=\"data row0 col1\" >301</td>\n",
       "            </tr>\n",
       "            <tr>\n",
       "                                <td id=\"T_6b01da1c_b7c2_11e9_9834_bcee7b4ae845row1_col0\" class=\"data row1 col0\" >1</td>\n",
       "                        <td id=\"T_6b01da1c_b7c2_11e9_9834_bcee7b4ae845row1_col1\" class=\"data row1 col1\" >282</td>\n",
       "            </tr>\n",
       "            <tr>\n",
       "                                <td id=\"T_6b01da1c_b7c2_11e9_9834_bcee7b4ae845row2_col0\" class=\"data row2 col0\" >2</td>\n",
       "                        <td id=\"T_6b01da1c_b7c2_11e9_9834_bcee7b4ae845row2_col1\" class=\"data row2 col1\" >269</td>\n",
       "            </tr>\n",
       "            <tr>\n",
       "                                <td id=\"T_6b01da1c_b7c2_11e9_9834_bcee7b4ae845row3_col0\" class=\"data row3 col0\" >3</td>\n",
       "                        <td id=\"T_6b01da1c_b7c2_11e9_9834_bcee7b4ae845row3_col1\" class=\"data row3 col1\" >271</td>\n",
       "            </tr>\n",
       "            <tr>\n",
       "                                <td id=\"T_6b01da1c_b7c2_11e9_9834_bcee7b4ae845row4_col0\" class=\"data row4 col0\" >4</td>\n",
       "                        <td id=\"T_6b01da1c_b7c2_11e9_9834_bcee7b4ae845row4_col1\" class=\"data row4 col1\" >243</td>\n",
       "            </tr>\n",
       "            <tr>\n",
       "                                <td id=\"T_6b01da1c_b7c2_11e9_9834_bcee7b4ae845row5_col0\" class=\"data row5 col0\" >5</td>\n",
       "                        <td id=\"T_6b01da1c_b7c2_11e9_9834_bcee7b4ae845row5_col1\" class=\"data row5 col1\" >209</td>\n",
       "            </tr>\n",
       "            <tr>\n",
       "                                <td id=\"T_6b01da1c_b7c2_11e9_9834_bcee7b4ae845row6_col0\" class=\"data row6 col0\" >6</td>\n",
       "                        <td id=\"T_6b01da1c_b7c2_11e9_9834_bcee7b4ae845row6_col1\" class=\"data row6 col1\" >234</td>\n",
       "            </tr>\n",
       "            <tr>\n",
       "                                <td id=\"T_6b01da1c_b7c2_11e9_9834_bcee7b4ae845row7_col0\" class=\"data row7 col0\" >7</td>\n",
       "                        <td id=\"T_6b01da1c_b7c2_11e9_9834_bcee7b4ae845row7_col1\" class=\"data row7 col1\" >226</td>\n",
       "            </tr>\n",
       "            <tr>\n",
       "                                <td id=\"T_6b01da1c_b7c2_11e9_9834_bcee7b4ae845row8_col0\" class=\"data row8 col0\" >8</td>\n",
       "                        <td id=\"T_6b01da1c_b7c2_11e9_9834_bcee7b4ae845row8_col1\" class=\"data row8 col1\" >257</td>\n",
       "            </tr>\n",
       "            <tr>\n",
       "                                <td id=\"T_6b01da1c_b7c2_11e9_9834_bcee7b4ae845row9_col0\" class=\"data row9 col0\" >9</td>\n",
       "                        <td id=\"T_6b01da1c_b7c2_11e9_9834_bcee7b4ae845row9_col1\" class=\"data row9 col1\" >222</td>\n",
       "            </tr>\n",
       "            <tr>\n",
       "                                <td id=\"T_6b01da1c_b7c2_11e9_9834_bcee7b4ae845row10_col0\" class=\"data row10 col0\" >10</td>\n",
       "                        <td id=\"T_6b01da1c_b7c2_11e9_9834_bcee7b4ae845row10_col1\" class=\"data row10 col1\" >282</td>\n",
       "            </tr>\n",
       "            <tr>\n",
       "                                <td id=\"T_6b01da1c_b7c2_11e9_9834_bcee7b4ae845row11_col0\" class=\"data row11 col0\" >11</td>\n",
       "                        <td id=\"T_6b01da1c_b7c2_11e9_9834_bcee7b4ae845row11_col1\" class=\"data row11 col1\" >312</td>\n",
       "            </tr>\n",
       "            <tr>\n",
       "                                <td id=\"T_6b01da1c_b7c2_11e9_9834_bcee7b4ae845row12_col0\" class=\"data row12 col0\" >12</td>\n",
       "                        <td id=\"T_6b01da1c_b7c2_11e9_9834_bcee7b4ae845row12_col1\" class=\"data row12 col1\" >342</td>\n",
       "            </tr>\n",
       "            <tr>\n",
       "                                <td id=\"T_6b01da1c_b7c2_11e9_9834_bcee7b4ae845row13_col0\" class=\"data row13 col0\" >13</td>\n",
       "                        <td id=\"T_6b01da1c_b7c2_11e9_9834_bcee7b4ae845row13_col1\" class=\"data row13 col1\" >444</td>\n",
       "            </tr>\n",
       "            <tr>\n",
       "                                <td id=\"T_6b01da1c_b7c2_11e9_9834_bcee7b4ae845row14_col0\" class=\"data row14 col0\" >14</td>\n",
       "                        <td id=\"T_6b01da1c_b7c2_11e9_9834_bcee7b4ae845row14_col1\" class=\"data row14 col1\" >513</td>\n",
       "            </tr>\n",
       "            <tr>\n",
       "                                <td id=\"T_6b01da1c_b7c2_11e9_9834_bcee7b4ae845row15_col0\" class=\"data row15 col0\" >15</td>\n",
       "                        <td id=\"T_6b01da1c_b7c2_11e9_9834_bcee7b4ae845row15_col1\" class=\"data row15 col1\" >646</td>\n",
       "            </tr>\n",
       "            <tr>\n",
       "                                <td id=\"T_6b01da1c_b7c2_11e9_9834_bcee7b4ae845row16_col0\" class=\"data row16 col0\" >16</td>\n",
       "                        <td id=\"T_6b01da1c_b7c2_11e9_9834_bcee7b4ae845row16_col1\" class=\"data row16 col1\" >579</td>\n",
       "            </tr>\n",
       "            <tr>\n",
       "                                <td id=\"T_6b01da1c_b7c2_11e9_9834_bcee7b4ae845row17_col0\" class=\"data row17 col0\" >17</td>\n",
       "                        <td id=\"T_6b01da1c_b7c2_11e9_9834_bcee7b4ae845row17_col1\" class=\"data row17 col1\" >587</td>\n",
       "            </tr>\n",
       "            <tr>\n",
       "                                <td id=\"T_6b01da1c_b7c2_11e9_9834_bcee7b4ae845row18_col0\" class=\"data row18 col0\" >18</td>\n",
       "                        <td id=\"T_6b01da1c_b7c2_11e9_9834_bcee7b4ae845row18_col1\" class=\"data row18 col1\" >614</td>\n",
       "            </tr>\n",
       "            <tr>\n",
       "                                <td id=\"T_6b01da1c_b7c2_11e9_9834_bcee7b4ae845row19_col0\" class=\"data row19 col0\" >19</td>\n",
       "                        <td id=\"T_6b01da1c_b7c2_11e9_9834_bcee7b4ae845row19_col1\" class=\"data row19 col1\" >552</td>\n",
       "            </tr>\n",
       "            <tr>\n",
       "                                <td id=\"T_6b01da1c_b7c2_11e9_9834_bcee7b4ae845row20_col0\" class=\"data row20 col0\" >20</td>\n",
       "                        <td id=\"T_6b01da1c_b7c2_11e9_9834_bcee7b4ae845row20_col1\" class=\"data row20 col1\" >510</td>\n",
       "            </tr>\n",
       "            <tr>\n",
       "                                <td id=\"T_6b01da1c_b7c2_11e9_9834_bcee7b4ae845row21_col0\" class=\"data row21 col0\" >21</td>\n",
       "                        <td id=\"T_6b01da1c_b7c2_11e9_9834_bcee7b4ae845row21_col1\" class=\"data row21 col1\" >518</td>\n",
       "            </tr>\n",
       "            <tr>\n",
       "                                <td id=\"T_6b01da1c_b7c2_11e9_9834_bcee7b4ae845row22_col0\" class=\"data row22 col0\" >22</td>\n",
       "                        <td id=\"T_6b01da1c_b7c2_11e9_9834_bcee7b4ae845row22_col1\" class=\"data row22 col1\" >383</td>\n",
       "            </tr>\n",
       "            <tr>\n",
       "                                <td id=\"T_6b01da1c_b7c2_11e9_9834_bcee7b4ae845row23_col0\" class=\"data row23 col0\" >23</td>\n",
       "                        <td id=\"T_6b01da1c_b7c2_11e9_9834_bcee7b4ae845row23_col1\" class=\"data row23 col1\" >343</td>\n",
       "            </tr>\n",
       "    </tbody></table>"
      ],
      "text/plain": [
       "<pandas.io.formats.style.Styler at 0x19ce403d320>"
      ]
     },
     "execution_count": 7,
     "metadata": {},
     "output_type": "execute_result"
    }
   ],
   "source": [
    "#Create counts_df dictionary using get_df function\n",
    "counts_df = get_df(counts_by_hour, 'Counts')\n",
    "counts_df.style.hide_index()"
   ]
  },
  {
   "cell_type": "code",
   "execution_count": 8,
   "metadata": {},
   "outputs": [
    {
     "data": {
      "text/html": [
       "<style  type=\"text/css\" >\n",
       "</style><table id=\"T_6b056dc0_b7c2_11e9_b9c3_bcee7b4ae845\" ><thead>    <tr>        <th class=\"col_heading level0 col0\" >Hour</th>        <th class=\"col_heading level0 col1\" >Comments</th>    </tr></thead><tbody>\n",
       "                <tr>\n",
       "                                <td id=\"T_6b056dc0_b7c2_11e9_b9c3_bcee7b4ae845row0_col0\" class=\"data row0 col0\" >0</td>\n",
       "                        <td id=\"T_6b056dc0_b7c2_11e9_b9c3_bcee7b4ae845row0_col1\" class=\"data row0 col1\" >2277</td>\n",
       "            </tr>\n",
       "            <tr>\n",
       "                                <td id=\"T_6b056dc0_b7c2_11e9_b9c3_bcee7b4ae845row1_col0\" class=\"data row1 col0\" >1</td>\n",
       "                        <td id=\"T_6b056dc0_b7c2_11e9_b9c3_bcee7b4ae845row1_col1\" class=\"data row1 col1\" >2089</td>\n",
       "            </tr>\n",
       "            <tr>\n",
       "                                <td id=\"T_6b056dc0_b7c2_11e9_b9c3_bcee7b4ae845row2_col0\" class=\"data row2 col0\" >2</td>\n",
       "                        <td id=\"T_6b056dc0_b7c2_11e9_b9c3_bcee7b4ae845row2_col1\" class=\"data row2 col1\" >2996</td>\n",
       "            </tr>\n",
       "            <tr>\n",
       "                                <td id=\"T_6b056dc0_b7c2_11e9_b9c3_bcee7b4ae845row3_col0\" class=\"data row3 col0\" >3</td>\n",
       "                        <td id=\"T_6b056dc0_b7c2_11e9_b9c3_bcee7b4ae845row3_col1\" class=\"data row3 col1\" >2154</td>\n",
       "            </tr>\n",
       "            <tr>\n",
       "                                <td id=\"T_6b056dc0_b7c2_11e9_b9c3_bcee7b4ae845row4_col0\" class=\"data row4 col0\" >4</td>\n",
       "                        <td id=\"T_6b056dc0_b7c2_11e9_b9c3_bcee7b4ae845row4_col1\" class=\"data row4 col1\" >2360</td>\n",
       "            </tr>\n",
       "            <tr>\n",
       "                                <td id=\"T_6b056dc0_b7c2_11e9_b9c3_bcee7b4ae845row5_col0\" class=\"data row5 col0\" >5</td>\n",
       "                        <td id=\"T_6b056dc0_b7c2_11e9_b9c3_bcee7b4ae845row5_col1\" class=\"data row5 col1\" >1838</td>\n",
       "            </tr>\n",
       "            <tr>\n",
       "                                <td id=\"T_6b056dc0_b7c2_11e9_b9c3_bcee7b4ae845row6_col0\" class=\"data row6 col0\" >6</td>\n",
       "                        <td id=\"T_6b056dc0_b7c2_11e9_b9c3_bcee7b4ae845row6_col1\" class=\"data row6 col1\" >1587</td>\n",
       "            </tr>\n",
       "            <tr>\n",
       "                                <td id=\"T_6b056dc0_b7c2_11e9_b9c3_bcee7b4ae845row7_col0\" class=\"data row7 col0\" >7</td>\n",
       "                        <td id=\"T_6b056dc0_b7c2_11e9_b9c3_bcee7b4ae845row7_col1\" class=\"data row7 col1\" >1585</td>\n",
       "            </tr>\n",
       "            <tr>\n",
       "                                <td id=\"T_6b056dc0_b7c2_11e9_b9c3_bcee7b4ae845row8_col0\" class=\"data row8 col0\" >8</td>\n",
       "                        <td id=\"T_6b056dc0_b7c2_11e9_b9c3_bcee7b4ae845row8_col1\" class=\"data row8 col1\" >2362</td>\n",
       "            </tr>\n",
       "            <tr>\n",
       "                                <td id=\"T_6b056dc0_b7c2_11e9_b9c3_bcee7b4ae845row9_col0\" class=\"data row9 col0\" >9</td>\n",
       "                        <td id=\"T_6b056dc0_b7c2_11e9_b9c3_bcee7b4ae845row9_col1\" class=\"data row9 col1\" >1477</td>\n",
       "            </tr>\n",
       "            <tr>\n",
       "                                <td id=\"T_6b056dc0_b7c2_11e9_b9c3_bcee7b4ae845row10_col0\" class=\"data row10 col0\" >10</td>\n",
       "                        <td id=\"T_6b056dc0_b7c2_11e9_b9c3_bcee7b4ae845row10_col1\" class=\"data row10 col1\" >3013</td>\n",
       "            </tr>\n",
       "            <tr>\n",
       "                                <td id=\"T_6b056dc0_b7c2_11e9_b9c3_bcee7b4ae845row11_col0\" class=\"data row11 col0\" >11</td>\n",
       "                        <td id=\"T_6b056dc0_b7c2_11e9_b9c3_bcee7b4ae845row11_col1\" class=\"data row11 col1\" >2797</td>\n",
       "            </tr>\n",
       "            <tr>\n",
       "                                <td id=\"T_6b056dc0_b7c2_11e9_b9c3_bcee7b4ae845row12_col0\" class=\"data row12 col0\" >12</td>\n",
       "                        <td id=\"T_6b056dc0_b7c2_11e9_b9c3_bcee7b4ae845row12_col1\" class=\"data row12 col1\" >4234</td>\n",
       "            </tr>\n",
       "            <tr>\n",
       "                                <td id=\"T_6b056dc0_b7c2_11e9_b9c3_bcee7b4ae845row13_col0\" class=\"data row13 col0\" >13</td>\n",
       "                        <td id=\"T_6b056dc0_b7c2_11e9_b9c3_bcee7b4ae845row13_col1\" class=\"data row13 col1\" >7245</td>\n",
       "            </tr>\n",
       "            <tr>\n",
       "                                <td id=\"T_6b056dc0_b7c2_11e9_b9c3_bcee7b4ae845row14_col0\" class=\"data row14 col0\" >14</td>\n",
       "                        <td id=\"T_6b056dc0_b7c2_11e9_b9c3_bcee7b4ae845row14_col1\" class=\"data row14 col1\" >4972</td>\n",
       "            </tr>\n",
       "            <tr>\n",
       "                                <td id=\"T_6b056dc0_b7c2_11e9_b9c3_bcee7b4ae845row15_col0\" class=\"data row15 col0\" >15</td>\n",
       "                        <td id=\"T_6b056dc0_b7c2_11e9_b9c3_bcee7b4ae845row15_col1\" class=\"data row15 col1\" >18525</td>\n",
       "            </tr>\n",
       "            <tr>\n",
       "                                <td id=\"T_6b056dc0_b7c2_11e9_b9c3_bcee7b4ae845row16_col0\" class=\"data row16 col0\" >16</td>\n",
       "                        <td id=\"T_6b056dc0_b7c2_11e9_b9c3_bcee7b4ae845row16_col1\" class=\"data row16 col1\" >4466</td>\n",
       "            </tr>\n",
       "            <tr>\n",
       "                                <td id=\"T_6b056dc0_b7c2_11e9_b9c3_bcee7b4ae845row17_col0\" class=\"data row17 col0\" >17</td>\n",
       "                        <td id=\"T_6b056dc0_b7c2_11e9_b9c3_bcee7b4ae845row17_col1\" class=\"data row17 col1\" >5547</td>\n",
       "            </tr>\n",
       "            <tr>\n",
       "                                <td id=\"T_6b056dc0_b7c2_11e9_b9c3_bcee7b4ae845row18_col0\" class=\"data row18 col0\" >18</td>\n",
       "                        <td id=\"T_6b056dc0_b7c2_11e9_b9c3_bcee7b4ae845row18_col1\" class=\"data row18 col1\" >4877</td>\n",
       "            </tr>\n",
       "            <tr>\n",
       "                                <td id=\"T_6b056dc0_b7c2_11e9_b9c3_bcee7b4ae845row19_col0\" class=\"data row19 col0\" >19</td>\n",
       "                        <td id=\"T_6b056dc0_b7c2_11e9_b9c3_bcee7b4ae845row19_col1\" class=\"data row19 col1\" >3954</td>\n",
       "            </tr>\n",
       "            <tr>\n",
       "                                <td id=\"T_6b056dc0_b7c2_11e9_b9c3_bcee7b4ae845row20_col0\" class=\"data row20 col0\" >20</td>\n",
       "                        <td id=\"T_6b056dc0_b7c2_11e9_b9c3_bcee7b4ae845row20_col1\" class=\"data row20 col1\" >4462</td>\n",
       "            </tr>\n",
       "            <tr>\n",
       "                                <td id=\"T_6b056dc0_b7c2_11e9_b9c3_bcee7b4ae845row21_col0\" class=\"data row21 col0\" >21</td>\n",
       "                        <td id=\"T_6b056dc0_b7c2_11e9_b9c3_bcee7b4ae845row21_col1\" class=\"data row21 col1\" >4500</td>\n",
       "            </tr>\n",
       "            <tr>\n",
       "                                <td id=\"T_6b056dc0_b7c2_11e9_b9c3_bcee7b4ae845row22_col0\" class=\"data row22 col0\" >22</td>\n",
       "                        <td id=\"T_6b056dc0_b7c2_11e9_b9c3_bcee7b4ae845row22_col1\" class=\"data row22 col1\" >3372</td>\n",
       "            </tr>\n",
       "            <tr>\n",
       "                                <td id=\"T_6b056dc0_b7c2_11e9_b9c3_bcee7b4ae845row23_col0\" class=\"data row23 col0\" >23</td>\n",
       "                        <td id=\"T_6b056dc0_b7c2_11e9_b9c3_bcee7b4ae845row23_col1\" class=\"data row23 col1\" >2297</td>\n",
       "            </tr>\n",
       "    </tbody></table>"
      ],
      "text/plain": [
       "<pandas.io.formats.style.Styler at 0x19ce629db70>"
      ]
     },
     "execution_count": 8,
     "metadata": {},
     "output_type": "execute_result"
    }
   ],
   "source": [
    "#Create comments_df dictionary using get_df function\n",
    "comments_df = get_df(comments_by_hour, 'Comments')\n",
    "comments_df.style.hide_index()"
   ]
  },
  {
   "cell_type": "code",
   "execution_count": 9,
   "metadata": {},
   "outputs": [
    {
     "data": {
      "image/png": "[encoded data removed]",
      "text/plain": [
       "<Figure size 432x288 with 1 Axes>"
      ]
     },
     "metadata": {
      "needs_background": "light"
     },
     "output_type": "display_data"
    },
    {
     "data": {
      "image/png": "[encoded data removed]",
      "text/plain": [
       "<Figure size 432x288 with 1 Axes>"
      ]
     },
     "metadata": {
      "needs_background": "light"
     },
     "output_type": "display_data"
    }
   ],
   "source": [
    "#Create pandas Series object from counts and comments dictionaries to plot graphs\n",
    "counts_by_hour = pd.Series(counts_by_hour).sort_index()\n",
    "counts_by_hour.plot(kind = 'bar')\n",
    "plt.title(\"Count of posts created by hour\")\n",
    "plt.xlabel(\"Hour of Day\")\n",
    "plt.ylabel(\"Number of posts created\")\n",
    "plt.show()\n",
    "\n",
    "comments_by_hour = pd.Series(comments_by_hour).sort_index()\n",
    "comments_by_hour.plot(kind = 'bar')\n",
    "plt.title(\"Count of comments made by hour\")\n",
    "plt.ylabel(\"Number of comments\")\n",
    "plt.xlabel(\"Hour of Day\")\n",
    "plt.show()"
   ]
  },
  {
   "cell_type": "markdown",
   "metadata": {},
   "source": [
    "# Graph Analysis\n",
    "\n",
    "Plotting the charts above makes data visualization far easier than simple lists or dictionaries. The most popular times for both posting and commenting can be easily seen form these charts.\n",
    "\n",
    "- The majority of posts are created between midday and early evening (14:00 - 21:00)\n",
    "- More comments are created during the same period, but there is a massive spike during the time from 15:00 - 16:00\n"
   ]
  },
  {
   "cell_type": "markdown",
   "metadata": {},
   "source": [
    "# Calcaulate averages\n",
    "Calculate avg number of comments per post for posts created during each hour of the day:"
   ]
  },
  {
   "cell_type": "code",
   "execution_count": 10,
   "metadata": {},
   "outputs": [
    {
     "data": {
      "text/plain": [
       "0      7.564784\n",
       "1      7.407801\n",
       "2     11.137546\n",
       "3      7.948339\n",
       "4      9.711934\n",
       "5      8.794258\n",
       "6      6.782051\n",
       "7      7.013274\n",
       "8      9.190661\n",
       "9      6.653153\n",
       "10    10.684397\n",
       "11     8.964744\n",
       "12    12.380117\n",
       "13    16.317568\n",
       "14     9.692008\n",
       "15    28.676471\n",
       "16     7.713299\n",
       "17     9.449744\n",
       "18     7.942997\n",
       "19     7.163043\n",
       "20     8.749020\n",
       "21     8.687259\n",
       "22     8.804178\n",
       "23     6.696793\n",
       "dtype: float64"
      ]
     },
     "execution_count": 10,
     "metadata": {},
     "output_type": "execute_result"
    }
   ],
   "source": [
    "avg_by_hour = comments_by_hour/counts_by_hour\n",
    "avg_by_hour"
   ]
  },
  {
   "cell_type": "markdown",
   "metadata": {},
   "source": [
    "Create a new series object to sort the list and show the five highest avg number of comments per post for posts created during each hour of the day"
   ]
  },
  {
   "cell_type": "code",
   "execution_count": 11,
   "metadata": {},
   "outputs": [
    {
     "name": "stdout",
     "output_type": "stream",
     "text": [
      "Top 5 hours for 'Ask Posts' Comments:\n"
     ]
    },
    {
     "data": {
      "text/plain": [
       "15    28.676471\n",
       "13    16.317568\n",
       "12    12.380117\n",
       "2     11.137546\n",
       "10    10.684397\n",
       "dtype: float64"
      ]
     },
     "execution_count": 11,
     "metadata": {},
     "output_type": "execute_result"
    }
   ],
   "source": [
    "sorted_by_comments = avg_by_hour.sort_values(ascending = False)\n",
    "print(\"Top 5 hours for 'Ask Posts' Comments:\")\n",
    "sorted_by_comments.head(5)"
   ]
  },
  {
   "cell_type": "markdown",
   "metadata": {},
   "source": [
    "# Conclusion\n",
    "---\n",
    "\n",
    "In this project, we have analysed data about Hacker News posts to determine whether 'Ask' or 'Show' posts were more popular and assess whether posts created at certain hours of the day receive more comments on average.\n",
    "\n",
    "We found that ask posts receive more comments than show posts. This is not surprising since it is expected that more people will respond to questions rather than simply comment a reaction to something you show them on an information site like Hacker News.\n",
    "\n",
    "It was also clear that the majority of 'Ask' posts were made during the afternoon, and an outstanding majority of comments were made on posts created during the period of 15:00 - 16:00 each day.\n",
    "\n",
    "If one were looking to create a post that would attract a lot of attention (views & comments) then the post should ideally be created in the \"Ask HN\" section between 15:00 and 16:00. Creating a post during this time would maximise the potential for the post to gain popularity and therefore profitability through paid advertisements."
   ]
  }
 ],
 "metadata": {
  "kernelspec": {
   "display_name": "Python 3",
   "language": "python",
   "name": "python3"
  },
  "language_info": {
   "codemirror_mode": {
    "name": "ipython",
    "version": 3
   },
   "file_extension": ".py",
   "mimetype": "text/x-python",
   "name": "python",
   "nbconvert_exporter": "python",
   "pygments_lexer": "ipython3",
   "version": "3.7.3"
  }
 },
 "nbformat": 4,
 "nbformat_minor": 2
}
